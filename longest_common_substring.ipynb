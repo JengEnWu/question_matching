{
 "cells": [
  {
   "cell_type": "markdown",
   "metadata": {},
   "source": [
    "### Implementation"
   ]
  },
  {
   "cell_type": "code",
   "execution_count": 1,
   "metadata": {},
   "outputs": [
    {
     "name": "stdout",
     "output_type": "stream",
     "text": [
      "8\n"
     ]
    }
   ],
   "source": [
    "# DP: Time:O(m*n), Space:O(m*n)\n",
    "def longest_common_substring(x:str, y:str) -> int:\n",
    "    m = len(x)\n",
    "    n = len(y)\n",
    "    \n",
    "    dp = [[0 for j in range(n+1)] for i in range(m+1)]\n",
    "    \n",
    "    res = 0\n",
    "    \n",
    "    for i in range(1, m+1):\n",
    "        for j in range(1, n+1):\n",
    "            if x[i-1] == y[j-1]:\n",
    "                dp[i][j] = 1 + dp[i-1][j-1]\n",
    "                res = max(res, dp[i][j])\n",
    "            else:\n",
    "                dp[i][j] = 0\n",
    "    return res\n",
    "\n",
    "x = \"HelloWorld\"\n",
    "y = \"HelloWord\"\n",
    "\n",
    "print(longest_common_substring(x, y))"
   ]
  },
  {
   "cell_type": "code",
   "execution_count": 9,
   "metadata": {},
   "outputs": [
    {
     "name": "stdout",
     "output_type": "stream",
     "text": [
      "(8, 'HelloWor')\n"
     ]
    }
   ],
   "source": [
    "# Optimized DP: Time:O(m*n), Space:O(m)\n",
    "def longest_common_substring(x:str, y:str):\n",
    "    \n",
    "    m = len(x)\n",
    "    n = len(y)\n",
    "    \n",
    "    dp = [0 for i in range(m+1)]\n",
    "    LCS = \"\"\n",
    "    len_LCS = 0\n",
    "    \n",
    "    for i in range(1, m+1):\n",
    "        newDp = [0 for i in range(m+1)]\n",
    "        for j in range(1, n+1):\n",
    "            if x[i-1] == y[j-1]:\n",
    "                newDp[j] = 1 + dp[j-1]\n",
    "                if newDp[j] > len_LCS:\n",
    "                    len_LCS = newDp[j]\n",
    "                    LCS = y[j - len_LCS:j]\n",
    "            else:\n",
    "                newDp[j] = 0\n",
    "        dp = newDp\n",
    "    return len_LCS, LCS\n",
    "\n",
    "x = \"HelloWorld\"\n",
    "y = \"HelloWord\"\n",
    "\n",
    "print(longest_common_substring(x, y))\n"
   ]
  },
  {
   "cell_type": "markdown",
   "metadata": {},
   "source": [
    "#### Library"
   ]
  },
  {
   "cell_type": "code",
   "execution_count": null,
   "metadata": {},
   "outputs": [],
   "source": []
  }
 ],
 "metadata": {
  "kernelspec": {
   "display_name": "Python 3.7.9 ('base')",
   "language": "python",
   "name": "python3"
  },
  "language_info": {
   "codemirror_mode": {
    "name": "ipython",
    "version": 3
   },
   "file_extension": ".py",
   "mimetype": "text/x-python",
   "name": "python",
   "nbconvert_exporter": "python",
   "pygments_lexer": "ipython3",
   "version": "3.7.9"
  },
  "orig_nbformat": 4,
  "vscode": {
   "interpreter": {
    "hash": "80abc454c3680029768265fb2d241145622e1199595d5b70bd9b6708e127aeb6"
   }
  }
 },
 "nbformat": 4,
 "nbformat_minor": 2
}
