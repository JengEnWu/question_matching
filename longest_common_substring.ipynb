{
 "cells": [
  {
   "cell_type": "markdown",
   "metadata": {},
   "source": [
    "### Implementation"
   ]
  },
  {
   "cell_type": "code",
   "execution_count": 1,
   "metadata": {},
   "outputs": [
    {
     "name": "stdout",
     "output_type": "stream",
     "text": [
      "8\n"
     ]
    }
   ],
   "source": [
    "# DP: Time:O(m*n), Space:O(m*n)\n",
    "def longest_common_substring(x:str, y:str) -> int:\n",
    "    m = len(x)\n",
    "    n = len(y)\n",
    "    \n",
    "    dp = [[0 for j in range(n+1)] for i in range(m+1)]\n",
    "    \n",
    "    res = 0\n",
    "    \n",
    "    for i in range(1, m+1):\n",
    "        for j in range(1, n+1):\n",
    "            if x[i-1] == y[j-1]:\n",
    "                dp[i][j] = 1 + dp[i-1][j-1]\n",
    "                res = max(res, dp[i][j])\n",
    "            else:\n",
    "                dp[i][j] = 0\n",
    "    return res\n",
    "\n",
    "x = \"HelloWorld\"\n",
    "y = \"HelloWord\"\n",
    "\n",
    "print(longest_common_substring(x, y))"
   ]
  },
  {
   "cell_type": "code",
   "execution_count": 31,
   "metadata": {},
   "outputs": [
    {
     "ename": "IndexError",
     "evalue": "list assignment index out of range",
     "output_type": "error",
     "traceback": [
      "\u001b[0;31m---------------------------------------------------------------------------\u001b[0m",
      "\u001b[0;31mIndexError\u001b[0m                                Traceback (most recent call last)",
      "\u001b[0;32m/var/folders/pf/8wn9m7fx3dn5pjl3dr04902c0000gn/T/ipykernel_76909/2490869601.py\u001b[0m in \u001b[0;36m<module>\u001b[0;34m\u001b[0m\n\u001b[1;32m     25\u001b[0m \u001b[0mx\u001b[0m \u001b[0;34m=\u001b[0m \u001b[0;34m\"HelloWord\"\u001b[0m\u001b[0;34m\u001b[0m\u001b[0;34m\u001b[0m\u001b[0m\n\u001b[1;32m     26\u001b[0m \u001b[0;34m\u001b[0m\u001b[0m\n\u001b[0;32m---> 27\u001b[0;31m \u001b[0mprint\u001b[0m\u001b[0;34m(\u001b[0m\u001b[0mlongest_common_substring\u001b[0m\u001b[0;34m(\u001b[0m\u001b[0mx\u001b[0m\u001b[0;34m,\u001b[0m \u001b[0my\u001b[0m\u001b[0;34m)\u001b[0m\u001b[0;34m)\u001b[0m\u001b[0;34m\u001b[0m\u001b[0;34m\u001b[0m\u001b[0m\n\u001b[0m",
      "\u001b[0;32m/var/folders/pf/8wn9m7fx3dn5pjl3dr04902c0000gn/T/ipykernel_76909/2490869601.py\u001b[0m in \u001b[0;36mlongest_common_substring\u001b[0;34m(x, y)\u001b[0m\n\u001b[1;32m     18\u001b[0m                     \u001b[0mLCS\u001b[0m \u001b[0;34m=\u001b[0m \u001b[0my\u001b[0m\u001b[0;34m[\u001b[0m\u001b[0mj\u001b[0m \u001b[0;34m-\u001b[0m \u001b[0mlen_LCS\u001b[0m\u001b[0;34m:\u001b[0m\u001b[0mj\u001b[0m\u001b[0;34m]\u001b[0m\u001b[0;34m\u001b[0m\u001b[0;34m\u001b[0m\u001b[0m\n\u001b[1;32m     19\u001b[0m             \u001b[0;32melse\u001b[0m\u001b[0;34m:\u001b[0m\u001b[0;34m\u001b[0m\u001b[0;34m\u001b[0m\u001b[0m\n\u001b[0;32m---> 20\u001b[0;31m                 \u001b[0mnewDp\u001b[0m\u001b[0;34m[\u001b[0m\u001b[0mj\u001b[0m\u001b[0;34m]\u001b[0m \u001b[0;34m=\u001b[0m \u001b[0;36m0\u001b[0m\u001b[0;34m\u001b[0m\u001b[0;34m\u001b[0m\u001b[0m\n\u001b[0m\u001b[1;32m     21\u001b[0m         \u001b[0mdp\u001b[0m \u001b[0;34m=\u001b[0m \u001b[0mnewDp\u001b[0m\u001b[0;34m\u001b[0m\u001b[0;34m\u001b[0m\u001b[0m\n\u001b[1;32m     22\u001b[0m     \u001b[0;32mreturn\u001b[0m \u001b[0mlen_LCS\u001b[0m\u001b[0;34m,\u001b[0m \u001b[0mLCS\u001b[0m\u001b[0;34m\u001b[0m\u001b[0;34m\u001b[0m\u001b[0m\n",
      "\u001b[0;31mIndexError\u001b[0m: list assignment index out of range"
     ]
    }
   ],
   "source": [
    "# Optimized DP: Time:O(m*n), Space:O(m)\n",
    "def longest_common_substring(x:str, y:str):\n",
    "    \n",
    "    m = len(x)\n",
    "    n = len(y)\n",
    "    \n",
    "    dp = [0 for i in range(m+1)]\n",
    "    LCS = \"\"\n",
    "    len_LCS = 0\n",
    "    \n",
    "    for i in range(1, m+1):\n",
    "        newDp = [0 for i in range(m+1)]\n",
    "        for j in range(1, n+1):\n",
    "            if x[i-1] == y[j-1]:\n",
    "                newDp[j] = 1 + dp[j-1]\n",
    "                if newDp[j] > len_LCS:\n",
    "                    len_LCS = newDp[j]\n",
    "                    LCS = y[j - len_LCS:j]\n",
    "            else:\n",
    "                newDp[j] = 0\n",
    "        dp = newDp\n",
    "    return len_LCS, LCS\n",
    "\n",
    "y = \"HelloWorld\"\n",
    "x = \"HelloWord\"\n",
    "\n",
    "print(longest_common_substring(x, y))\n"
   ]
  },
  {
   "cell_type": "markdown",
   "metadata": {},
   "source": [
    "#### Library"
   ]
  },
  {
   "cell_type": "code",
   "execution_count": 16,
   "metadata": {},
   "outputs": [],
   "source": [
    "from difflib import SequenceMatcher\n",
    " \n",
    "def longestSubstring(str1,str2):\n",
    " \n",
    "     # initialize SequenceMatcher object with\n",
    "     # input string\n",
    "     seqMatch = SequenceMatcher(None,str1,str2)\n",
    " \n",
    "     # find match of longest sub-string\n",
    "     # output will be like Match(a=0, b=0, size=5)\n",
    "     match = seqMatch.find_longest_match(0, len(str1), 0, len(str2))\n",
    " \n",
    "     # print longest substring\n",
    "     if (match.size!=0):\n",
    "          return str1[match.a: match.a + match.size]\n",
    "     # else:\n",
    "     #      print ('No longest common sub-string found')"
   ]
  },
  {
   "cell_type": "code",
   "execution_count": 33,
   "metadata": {},
   "outputs": [
    {
     "data": {
      "text/plain": [
       "'HelloWor'"
      ]
     },
     "execution_count": 33,
     "metadata": {},
     "output_type": "execute_result"
    }
   ],
   "source": [
    "longestSubstring(y, x)"
   ]
  },
  {
   "cell_type": "code",
   "execution_count": 17,
   "metadata": {},
   "outputs": [],
   "source": [
    "x = \"HelloWorld\"\n",
    "y = \"HelloWord\"\n",
    "\n",
    "def my_func():\n",
    "    return longest_common_substring(x, y)\n",
    "\n",
    "def lib_func():\n",
    "    return longestSubstring(x, y)"
   ]
  },
  {
   "cell_type": "code",
   "execution_count": 20,
   "metadata": {},
   "outputs": [
    {
     "name": "stdout",
     "output_type": "stream",
     "text": [
      "執行時間：0.262562 秒\n",
      "執行時間：0.119058 秒\n"
     ]
    }
   ],
   "source": [
    "import timeit\n",
    "\n",
    "# 測量程式碼執行時間（重複 10000 次）\n",
    "my_t = timeit.timeit(my_func, number=10000)\n",
    "lib_t = timeit.timeit(lib_func, number=10000)\n",
    "\n",
    "# 輸出結果\n",
    "print(\"執行時間：%f 秒\" % my_t)\n",
    "print(\"執行時間：%f 秒\" % lib_t)"
   ]
  },
  {
   "cell_type": "code",
   "execution_count": null,
   "metadata": {},
   "outputs": [],
   "source": []
  }
 ],
 "metadata": {
  "kernelspec": {
   "display_name": "Python 3.7.9 ('base')",
   "language": "python",
   "name": "python3"
  },
  "language_info": {
   "codemirror_mode": {
    "name": "ipython",
    "version": 3
   },
   "file_extension": ".py",
   "mimetype": "text/x-python",
   "name": "python",
   "nbconvert_exporter": "python",
   "pygments_lexer": "ipython3",
   "version": "3.7.9"
  },
  "orig_nbformat": 4,
  "vscode": {
   "interpreter": {
    "hash": "80abc454c3680029768265fb2d241145622e1199595d5b70bd9b6708e127aeb6"
   }
  }
 },
 "nbformat": 4,
 "nbformat_minor": 2
}
