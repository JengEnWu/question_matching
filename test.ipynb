{
 "cells": [
  {
   "cell_type": "markdown",
   "metadata": {},
   "source": [
    "### 思路\n",
    "\n",
    "1. 整理「本次考試試題」和「歷屆試題樣本」成一題一題\n",
    "2. 依序計算新題目與歷史題目的 Longest Common Substring (LCS)\n",
    "3. 若 LCS 的比例高於 threshold，則儲存起來（存新題目、舊題目、新題目字數、LCS長度、LCS比例、是否相同）"
   ]
  },
  {
   "cell_type": "code",
   "execution_count": null,
   "metadata": {},
   "outputs": [],
   "source": [
    "import docx\n",
    "\n",
    "def getText(filename):\n",
    "    doc = docx.Document(filename)\n",
    "    fullText = []\n",
    "    for para in doc.paragraphs:\n",
    "        fullText.append(para.text)\n",
    "    return '\\n'.join(fullText)"
   ]
  },
  {
   "cell_type": "code",
   "execution_count": null,
   "metadata": {},
   "outputs": [],
   "source": [
    "f1 = \"./本次考試試題.docx\"\n",
    "f2 = \"./歷屆試題樣本.docx\""
   ]
  },
  {
   "cell_type": "code",
   "execution_count": 86,
   "metadata": {},
   "outputs": [],
   "source": [
    "t1 = getText(f1)\n",
    "t2 = getText(f2)\n",
    "\n",
    "t1 = t1.replace(\"\\u3000\", \"\")\n",
    "t2 = t2.replace(\"\\u3000\", \" \")\n",
    "\n",
    "q1 = t1.split(\"\\n\")\n",
    "q2 = t2.split(\"\\n\")"
   ]
  },
  {
   "cell_type": "code",
   "execution_count": null,
   "metadata": {},
   "outputs": [],
   "source": [
    "q1"
   ]
  },
  {
   "cell_type": "markdown",
   "metadata": {},
   "source": [
    "### Longest Common Substring"
   ]
  },
  {
   "cell_type": "markdown",
   "metadata": {},
   "source": [
    "#### Implementation"
   ]
  },
  {
   "cell_type": "code",
   "execution_count": null,
   "metadata": {},
   "outputs": [],
   "source": []
  },
  {
   "cell_type": "markdown",
   "metadata": {},
   "source": [
    "#### "
   ]
  },
  {
   "cell_type": "markdown",
   "metadata": {},
   "source": []
  }
 ],
 "metadata": {
  "kernelspec": {
   "display_name": "Python 3.7.9 ('base')",
   "language": "python",
   "name": "python3"
  },
  "language_info": {
   "codemirror_mode": {
    "name": "ipython",
    "version": 3
   },
   "file_extension": ".py",
   "mimetype": "text/x-python",
   "name": "python",
   "nbconvert_exporter": "python",
   "pygments_lexer": "ipython3",
   "version": "3.7.9"
  },
  "orig_nbformat": 4,
  "vscode": {
   "interpreter": {
    "hash": "80abc454c3680029768265fb2d241145622e1199595d5b70bd9b6708e127aeb6"
   }
  }
 },
 "nbformat": 4,
 "nbformat_minor": 2
}
